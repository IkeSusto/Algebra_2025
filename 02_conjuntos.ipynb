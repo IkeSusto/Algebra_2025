{
 "cells": [
  {
   "cell_type": "markdown",
   "metadata": {},
   "source": [
    "## Conjuntos"
   ]
  },
  {
   "cell_type": "markdown",
   "metadata": {},
   "source": [
    "Na teoria de conjuntos, três ideias são aceitas sem definição:\n",
    "-  Elemento\n",
    "-  Conjunto\n",
    "-  Pertinência (pertencer)\n",
    "\n",
    "Essas três definições estão bem próximas do uso que fazemos no dia a dia. \n",
    "\n",
    "> Um **conjunto** é uma coleção de elementos.\n",
    "\n",
    "> Um **elemento:** é tudo aquilo que **pertence** a um conjunto.\n",
    "\n",
    "A melhor forma de absorver esses conceitos é através de exemplos.\n",
    "\n",
    "#### Exemplos:\n",
    "\n",
    "1. conjunto de vogais: $V=\\{a,i,u,o,e\\}$ \n",
    "1. conjunto das letras da palavra \"abacaxi\": $A=\\{a, b, c, x, i\\}$\n",
    "1. conjunto dos ímpares positivos: $N_{I}=\\{1,3,5,7,9,11,...\\}$\n",
    "1. conjunto dos pares positivos: $N_{P}=\\{2,4,5,6,8,10,12,...\\}$\n",
    "1. conjunto dos planetas do sistema solar: $P=\\{marte, vênus, terra, mercúrio, júpiter, uranus, netuno, saturno\\}$\n",
    "1. conjunto dos planetas gasosos do sistema solar: $G=\\{júpiter,uranus, netuno, saturno\\}$\n",
    "1. conjunto das raízes reais de $f(x)=x^{2}+1$: $R=\\{\\}$\n",
    "1. conjunto de todas as frações com numerador $0$: $F=\\{0\\}$\n",
    "\n",
    "Para identificar que um elemento pertence (ou não) a um conjunto usamos a seguinte simbologia:\n",
    "$$x\\in A\\quad\\quad\\quad\\quad ``x\\; pertence\\; a\\; A\"$$\n",
    "$$x\\not\\in A\\quad\\quad ``x\\; não\\; pertence\\; a\\; A\"$$\n",
    "- $a\\in V$, a é uma vogal.\n",
    "- $b \\in A$, b é uma letra de 'abacaxi'\n",
    "- $b \\not\\in V$, b não é uma vogal\n",
    "\n",
    "Note que:\n",
    "1. A ordem dos elementos não importa. $V=\\{a,i,u,o,e\\}=\\{a,e,i,o,u\\}=\\{u,i,a,o,e\\}$\n",
    "    - Dois $A$ e $B$ conjuntos são ditos iguais se todo elemento de $A$ é elemento de $B$ e vice-versa.\n",
    "    - $x\\in A\\Leftrightarrow x\\in B$\n",
    "2. Não existem elementos repetidos.  \n",
    "\n",
    "#### Diagrama de Venn\n",
    "\n",
    "---diagrama de venn para $\\in$---\n",
    "\n",
    "Dizemos que um conjunto $S$ é subconjunto de $C$ quando todo elemento de $S$ também é elemento de $C$. Para identificar essa relação usamos a simbologia:\n",
    "$$S\\subset A\\quad\\quad\\quad\\quad ``S\\; está\\; contido\\; em\\; a\\; C\"$$\n",
    "$$S\\not\\subset A\\quad\\quad ``S\\; não\\; está\\; contido\\; em\\; a\\; C\"$$\n",
    "- $G\\subset P$, todo planeta gasoso é um planeta.\n",
    "- $V\\not\\subset A$, nem toda letra da palavra 'abacaxi' é vogal.\n",
    "\n",
    "---diagrama de venn---\n",
    "\n",
    "Um conjunto que só tem um elemento é dito *unitário* e um que não possui nennhum elemento é chamado de *vazio*.\n",
    "- $R=\\{\\}$ é o conjunto vazio.\n",
    "- $F=\\{0\\}$ é um conjunto unitário, só possui um elemento, no caso $0$.\n",
    "\n",
    "Chamamos de conjunto *universo* $U$ o conjunto de todos os elementos. O conjunto universo vai variar de acordo com o contexto do nosso estudo.\n",
    "- Para $V e A$ poderíamos dizer que o conjunto universo $U$ é o conjunto de todas as letras do alfabeto.\n",
    "- Para $N_{I}, N_{P} e F$ poderíamos dizer que o conjunto universo é o conjunto de todos os números naturais. \n",
    "\n",
    "Consigo representar um conjunto não só listando todos os seus elementos, como nos exemplos acima. Posso também usar alguma propriedade comum a todos os seus elementos.\n",
    "$$A=\\{x\\in U\\,|\\,x\\, tem\\, a\\, propriedade\\, p\\}$$\n",
    "Lê-se: $A$ é o conjunto de todos os elementos do universo $U$ que possuem a propriedade P.\n",
    "- $G=\\{x\\in P\\,|\\, x\\, é\\, gasoso\\}$\n",
    "\n",
    "Nem sempre será necessário deixar claro quem é o conjunto universo.\n",
    "\n",
    "#### Exercício\n",
    "Escreva em lista os seguintes conjuntos:\n",
    "1. $A=\\{x\\,|\\,x$ é letra da palavra matemática $\\}$\n",
    "1. $B=\\{x\\,|\\,x$ é cor da bandeira brasileira $\\}$\n",
    "1. $C=\\{x\\in \\R|\\,x^{2}-x=0\\}$\n",
    "1. $D=\\{x\\in\\R|\\,x=\\dfrac{a}{b}$ onde $a,b\\in\\{0,1,2,3\\}\\}$\n"
   ]
  },
  {
   "cell_type": "markdown",
   "metadata": {},
   "source": []
  },
  {
   "cell_type": "markdown",
   "metadata": {},
   "source": []
  }
 ],
 "metadata": {
  "language_info": {
   "name": "python"
  }
 },
 "nbformat": 4,
 "nbformat_minor": 2
}
