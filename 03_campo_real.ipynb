{
 "cells": [
  {
   "cell_type": "markdown",
   "metadata": {},
   "source": [
    "# Números"
   ]
  },
  {
   "cell_type": "markdown",
   "metadata": {},
   "source": [
    "## Tópicos\n",
    "- Hj vamos construir os números reais (que são todos os números que conhecemos)\n",
    "    - Perspectiva histórica\n",
    "    - Preenchendo a reta real\n",
    "- Alguns pontos:\n",
    "    - A reta é infinita, mas não existem coisas infinitas. Mas como não queremos nos limitar, queremos uma matemática que funcione independente da quantidade ou tamanho das coisas que existem, trabalhamos com cenários 'ideais'. Daí infinito.\n",
    "    - Como é infinito a escala pouco importa, pq eu sempre posso dar um zoom que a reta n muda.\n",
    "- Do começo. Pq inventamos ou descobrimos os números?\n",
    "    - Pra que que a primeira pessoa que pensou em números pensou em números? Que problemas ela precisava resolver?\n",
    "    - Ele queria contar coisas. \n",
    "    - Coisa existe, ok. Mas eu olho pro lado e outra coisa tbm existe, olho de novo, e uma terceira coisa tbm existe.\n",
    "    - Contar é adicionar de um em um, certo?\n",
    "    - Então precismos encolher duas coisas, pra começar a preencher a reta com os nossos números. Escolher onde está o 1 e como eu represento adicionar mais um (distância)\n",
    "\n"
   ]
  }
 ],
 "metadata": {
  "language_info": {
   "name": "python"
  }
 },
 "nbformat": 4,
 "nbformat_minor": 2
}
